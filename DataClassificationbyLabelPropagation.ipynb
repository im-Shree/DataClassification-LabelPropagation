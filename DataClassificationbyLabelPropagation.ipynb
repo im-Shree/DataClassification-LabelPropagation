{
  "cells": [
    {
      "cell_type": "markdown",
      "metadata": {
        "id": "EcvVxv3EkErH"
      },
      "source": [
        "**Implementing Label Propagation with Self-Training**"
      ]
    },
    {
      "cell_type": "code",
      "execution_count": 1,
      "metadata": {
        "id": "XcXp3N8LkBZl"
      },
      "outputs": [],
      "source": [
        "from abc import ABCMeta, abstractmethod\n",
        "import warnings\n",
        "import numpy as np\n",
        "from scipy import sparse\n",
        "from scipy.sparse import csgraph\n",
        "from sklearn import base,metrics,neighbors,utils,exceptions\n",
        "from sklearn.base import BaseEstimator, ClassifierMixin\n",
        "from sklearn.neighbors import NearestNeighbors\n",
        "from sklearn.utils.extmath import safe_sparse_dot\n",
        "from sklearn.utils.multiclass import check_classification_targets\n",
        "from sklearn.utils.validation import check_is_fitted\n",
        "from sklearn.exceptions import ConvergenceWarning\n",
        "from sklearn import datasets\n",
        "from sklearn.metrics import confusion_matrix,classification_report\n",
        "import matplotlib.pyplot as plt\n",
        "from scipy import stats"
      ]
    },
    {
      "cell_type": "code",
      "execution_count": 4,
      "metadata": {
        "id": "wip68xASCBil"
      },
      "outputs": [],
      "source": [
        "\"\"\"\n",
        "  The base_LabelPropagation class is an implementation of the LabelPropagation algorithm for semi-supervised learning.\n",
        "  It serves as the base class for label propagation models and provides the core functionality for propagating labels from labeled to unlabeled data points.\n",
        "  The base_LabelPropagation class provides a foundation for implementing label propagation models\n",
        "  and can be extended to customize specific variants of the algorithm.\n",
        "\"\"\"\n",
        "class base_LabelPropagation(ClassifierMixin,BaseEstimator):\n",
        "  def __init__(\n",
        "        self,\n",
        "        kernel=\"knn\",\n",
        "        *,\n",
        "        gamma=20,\n",
        "        n_neighbors=7,\n",
        "        alpha=0.8,\n",
        "        max_iter=30,\n",
        "        tol=1e-3,\n",
        "        n_jobs=None,\n",
        "    ):\n",
        "\n",
        "        self.max_iter = max_iter\n",
        "        self.tol = tol\n",
        "\n",
        "        # kernel parameters\n",
        "        self.kernel = kernel\n",
        "        self.gamma = gamma\n",
        "        self.n_neighbors = n_neighbors\n",
        "\n",
        "        # clamping factor\n",
        "        self.alpha = alpha\n",
        "        self.n_jobs = n_jobs\n",
        "\n",
        "  def _get_kernel(self, X, y=None):\n",
        "    if self.kernel == \"knn\":\n",
        "          if self.nn_fit is None:\n",
        "              self.nn_fit = NearestNeighbors(\n",
        "                  n_neighbors=self.n_neighbors, n_jobs=self.n_jobs\n",
        "              ).fit(X)\n",
        "          if y is None:\n",
        "              return self.nn_fit.kneighbors_graph(\n",
        "                  self.nn_fit._fit_X, self.n_neighbors, mode=\"connectivity\"\n",
        "              )\n",
        "          else:\n",
        "              return self.nn_fit.kneighbors(y, return_distance=False)\n",
        "\n",
        "  def _build_graph(self):\n",
        "\n",
        "        #Graph matrix for Label Propagation computes the graph laplacian\n",
        "        if self.kernel == \"knn\":\n",
        "            self.nn_fit = None\n",
        "        n_samples = self.X_.shape[0]\n",
        "        affinity_matrix = self._get_kernel(self.X_)\n",
        "        #Compute affinity matrix (or gram matrix)\n",
        "        laplacian = csgraph.laplacian(affinity_matrix, normed=True)\n",
        "        laplacian = -laplacian\n",
        "        if sparse.isspmatrix(laplacian):\n",
        "            diag_mask = laplacian.row == laplacian.col\n",
        "            laplacian.data[diag_mask] = 0.0\n",
        "        else:\n",
        "            laplacian.flat[:: n_samples + 1] = 0.0\n",
        "        return laplacian\n",
        "\n",
        "  def predict(self, X):\n",
        "          probas = self.predict_probability(X)\n",
        "          return self.classes_[np.argmax(probas, axis=1)].ravel()\n",
        "\n",
        "  def predict_probability(self, X):\n",
        "    check_is_fitted(self)\n",
        "\n",
        "    X_2d = self._validate_data(\n",
        "        X,\n",
        "        accept_sparse=[\"csc\", \"csr\", \"coo\", \"dok\", \"bsr\", \"lil\", \"dia\"],\n",
        "        reset=False,\n",
        "    )\n",
        "    weight_matrices = self._get_kernel(self.X_, X_2d)\n",
        "    if self.kernel == \"knn\":\n",
        "        probabilities = np.array(\n",
        "            [\n",
        "                np.sum(self.label_distributions_[weight_matrix], axis=0)\n",
        "                for weight_matrix in weight_matrices\n",
        "            ]\n",
        "        )\n",
        "    else:\n",
        "        weight_matrices = weight_matrices.T\n",
        "        probabilities = safe_sparse_dot(weight_matrices, self.label_distributions_)\n",
        "    normalizer = np.atleast_2d(np.sum(probabilities, axis=1)).T\n",
        "    probabilities /= normalizer\n",
        "    return probabilities\n",
        "\n",
        "\n",
        "  def fit(self, X, y):\n",
        "\n",
        "      X, y = self._validate_data(X, y)\n",
        "      self.X_ = X\n",
        "      check_classification_targets(y)\n",
        "      graph_matrix = self._build_graph()\n",
        "\n",
        "    # construct a categorical distribution for classification only\n",
        "      classes = np.unique(y)\n",
        "      classes = classes[classes != -1]\n",
        "      self.classes_ = classes\n",
        "      n_samples, n_classes = len(y), len(classes)\n",
        "      alpha = self.alpha\n",
        "      y = np.asarray(y)\n",
        "      unlabeled = y == -1\n",
        "\n",
        "      # initialize distributions\n",
        "      self.label_distributions_ = np.zeros((n_samples, n_classes))\n",
        "      for label in classes:\n",
        "          self.label_distributions_[y == label, classes == label] = 1\n",
        "\n",
        "      y_static = np.copy(self.label_distributions_)\n",
        "      y_static[unlabeled] = 0\n",
        "\n",
        "      l_previous = np.zeros((self.X_.shape[0], n_classes))\n",
        "      unlabeled = unlabeled[:, np.newaxis]\n",
        "      if sparse.isspmatrix(graph_matrix):\n",
        "          graph_matrix = graph_matrix.tocsr()\n",
        "\n",
        "      for self.n_iter_ in range(self.max_iter):\n",
        "          if np.abs(self.label_distributions_ - l_previous).sum() < self.tol:\n",
        "              break\n",
        "          l_previous = self.label_distributions_\n",
        "          self.label_distributions_ = safe_sparse_dot(\n",
        "              graph_matrix, self.label_distributions_\n",
        "          )\n",
        "\n",
        "          normalizer = np.sum(self.label_distributions_, axis=1)[:, np.newaxis]\n",
        "          normalizer[normalizer == 0] = 1\n",
        "          self.label_distributions_ /= normalizer\n",
        "          self.label_distributions_ = np.where(\n",
        "              unlabeled, self.label_distributions_, y_static\n",
        "          )\n",
        "\n",
        "      else:\n",
        "          warnings.warn(\n",
        "              \"max_iter=%d was reached without convergence.\" % self.max_iter,\n",
        "              category=ConvergenceWarning,\n",
        "          )\n",
        "          self.n_iter_ += 1\n",
        "\n",
        "      normalizer = np.sum(self.label_distributions_, axis=1)[:, np.newaxis]\n",
        "      normalizer[normalizer == 0] = 1\n",
        "      self.label_distributions_ /= normalizer\n",
        "\n",
        "      # setting transduction\n",
        "      transduction = self.classes_[np.argmax(self.label_distributions_, axis=1)]\n",
        "      self.transduction_ = transduction.ravel()\n",
        "      return self\n"
      ]
    },
    {
      "cell_type": "code",
      "execution_count": 44,
      "metadata": {
        "id": "Zx5jB9doZBiC"
      },
      "outputs": [],
      "source": [
        "\"\"\"This function performs label propagation on a dataset using the LabelPropagation algorithm.\n",
        "   It takes the number of labeled points as input and applies label propagation to predict labels for the remaining unlabeled points.\n",
        "   The function provides insights into the performance of label propagation and demonstrates learning with a small amount of labeled data.\n",
        "\"\"\"\n",
        "def propagation_Function(nlabeledpoints):\n",
        "\n",
        "  digits = datasets.load_digits()\n",
        "  rng = np.random.RandomState(0)\n",
        "  indices = np.arange(len(digits.data))\n",
        "\n",
        "  rng.shuffle(indices)\n",
        "\n",
        "  X = digits.data[indices[:330]]\n",
        "  y = digits.target[indices[:330]]\n",
        "  images = digits.images[indices[:330]]\n",
        "\n",
        "  ntotalsamples = len(y)\n",
        "  #nlabeledpoints = 10\n",
        "  y_train = np.copy(y)\n",
        "  indices = np.arange(ntotalsamples)\n",
        "  training_index = indices[:nlabeledpoints]\n",
        "  unlabeled_set = indices[nlabeledpoints:]\n",
        "\n",
        "  # Shuffle everything around\n",
        "  y_train[unlabeled_set] = -1\n",
        "\n",
        "  label_prop_model = base_LabelPropagation()\n",
        "  label_prop_model.fit(X,y_train)\n",
        "\n",
        "  predicted_labels = label_prop_model.predict(X[unlabeled_set])\n",
        "  true_labels = y[unlabeled_set]\n",
        "\n",
        "  cm = confusion_matrix(true_labels, predicted_labels)\n",
        "  print(\"Confusion Matrix : \\n\",cm)\n",
        "  print(\"Classification Report : \\n\",classification_report(true_labels, predicted_labels))\n",
        "\n",
        "\n",
        "  print(\n",
        "      \"Label Spreading model: %d labeled & %d unlabeled points (%d total)\"\n",
        "      % (nlabeledpoints, ntotalsamples - nlabeledpoints, ntotalsamples)\n",
        "  )\n",
        "\n",
        "\n",
        "\n",
        "\n",
        "  # Calculate uncertainty values for each transduced distribution\n",
        "  pred_entropies = stats.distributions.entropy(label_prop_model.label_distributions_.T)\n",
        "\n",
        "  # Pick the top 5 most uncertain labels\n",
        "  uncertainty_index = np.argsort(pred_entropies)[:5]\n",
        "\n",
        "  f = plt.figure(figsize=(10, 6))\n",
        "  for index, image_index in enumerate(uncertainty_index):\n",
        "      image = images[image_index]\n",
        "\n",
        "      sub = f.add_subplot(2, 5, index + 1)\n",
        "      sub.imshow(image, cmap=plt.cm.gray_r, interpolation='nearest', vmin=0, vmax=16)\n",
        "      plt.xticks([])\n",
        "      plt.yticks([])\n",
        "      sub.set_title(\n",
        "          \"predict: %i\\ntrue: %i\" % (label_prop_model.transduction_[image_index], y[image_index])\n",
        "      )\n",
        "\n",
        "  f.suptitle(\"Learning with small amount of labeled data\")\n",
        "  plt.show()"
      ]
    },
    {
      "cell_type": "code",
      "source": [
        "propagation_Function(nlabeledpoints=10)"
      ],
      "metadata": {
        "colab": {
          "base_uri": "https://localhost:8080/",
          "height": 1000
        },
        "id": "BJdILOmbrcO0",
        "outputId": "dfa52063-8c2e-41e3-ae3e-535814f9b92c"
      },
      "execution_count": 45,
      "outputs": [
        {
          "output_type": "stream",
          "name": "stderr",
          "text": [
            "<ipython-input-4-b44cbfc9507d>:129: ConvergenceWarning: max_iter=30 was reached without convergence.\n",
            "  warnings.warn(\n",
            "<ipython-input-4-b44cbfc9507d>:80: RuntimeWarning: invalid value encountered in true_divide\n",
            "  probabilities /= normalizer\n",
            "/usr/local/lib/python3.10/dist-packages/sklearn/metrics/_classification.py:1344: UndefinedMetricWarning: Precision and F-score are ill-defined and being set to 0.0 in labels with no predicted samples. Use `zero_division` parameter to control this behavior.\n",
            "  _warn_prf(average, modifier, msg_start, len(result))\n",
            "/usr/local/lib/python3.10/dist-packages/sklearn/metrics/_classification.py:1344: UndefinedMetricWarning: Precision and F-score are ill-defined and being set to 0.0 in labels with no predicted samples. Use `zero_division` parameter to control this behavior.\n",
            "  _warn_prf(average, modifier, msg_start, len(result))\n",
            "/usr/local/lib/python3.10/dist-packages/sklearn/metrics/_classification.py:1344: UndefinedMetricWarning: Precision and F-score are ill-defined and being set to 0.0 in labels with no predicted samples. Use `zero_division` parameter to control this behavior.\n",
            "  _warn_prf(average, modifier, msg_start, len(result))\n",
            "/usr/local/lib/python3.10/dist-packages/scipy/stats/_entropy.py:135: RuntimeWarning: invalid value encountered in true_divide\n",
            "  pk = 1.0*pk / np.sum(pk, axis=axis, keepdims=True)\n"
          ]
        },
        {
          "output_type": "stream",
          "name": "stdout",
          "text": [
            "Confusion Matrix : \n",
            " [[ 0 24  0  0  0  0  0  0  0  0]\n",
            " [ 0  0  5  0  0  0  9  3 12  0]\n",
            " [ 0  0 29  0  0  0  0  2  0  0]\n",
            " [ 0  0  1  0  0  0  0  0  0 27]\n",
            " [ 0  0  0  0  0  0  0 27  0  0]\n",
            " [ 0  0  0  0  0 13  0  0  0 22]\n",
            " [ 0  0  0  0  0  0 40  0  0  0]\n",
            " [ 0  0  0  0  0  0  0 36  0  0]\n",
            " [ 0  0  0  0  0  0  1  0 30  2]\n",
            " [ 0  0  0  0  0  3  0  3  0 31]]\n",
            "Classification Report : \n",
            "               precision    recall  f1-score   support\n",
            "\n",
            "           0       0.00      0.00      0.00        24\n",
            "           1       0.00      0.00      0.00        29\n",
            "           2       0.83      0.94      0.88        31\n",
            "           3       0.00      0.00      0.00        28\n",
            "           4       0.00      0.00      0.00        27\n",
            "           5       0.81      0.37      0.51        35\n",
            "           6       0.80      1.00      0.89        40\n",
            "           7       0.51      1.00      0.67        36\n",
            "           8       0.71      0.91      0.80        33\n",
            "           9       0.38      0.84      0.52        37\n",
            "\n",
            "    accuracy                           0.56       320\n",
            "   macro avg       0.40      0.51      0.43       320\n",
            "weighted avg       0.44      0.56      0.47       320\n",
            "\n",
            "Label Spreading model: 10 labeled & 320 unlabeled points (330 total)\n"
          ]
        },
        {
          "output_type": "display_data",
          "data": {
            "text/plain": [
              "<Figure size 1000x600 with 5 Axes>"
            ],
            "image/png": "[encoded data removed]"
          },
          "metadata": {}
        }
      ]
    },
    {
      "cell_type": "code",
      "execution_count": 46,
      "metadata": {
        "colab": {
          "base_uri": "https://localhost:8080/",
          "height": 1000
        },
        "id": "vnXzEKFIwxJO",
        "outputId": "4b8fd9c9-b23a-4994-9c37-134edd28e297"
      },
      "outputs": [
        {
          "output_type": "stream",
          "name": "stderr",
          "text": [
            "<ipython-input-4-b44cbfc9507d>:129: ConvergenceWarning: max_iter=30 was reached without convergence.\n",
            "  warnings.warn(\n",
            "<ipython-input-4-b44cbfc9507d>:80: RuntimeWarning: invalid value encountered in true_divide\n",
            "  probabilities /= normalizer\n",
            "/usr/local/lib/python3.10/dist-packages/sklearn/metrics/_classification.py:1344: UndefinedMetricWarning: Precision and F-score are ill-defined and being set to 0.0 in labels with no predicted samples. Use `zero_division` parameter to control this behavior.\n",
            "  _warn_prf(average, modifier, msg_start, len(result))\n",
            "/usr/local/lib/python3.10/dist-packages/sklearn/metrics/_classification.py:1344: UndefinedMetricWarning: Precision and F-score are ill-defined and being set to 0.0 in labels with no predicted samples. Use `zero_division` parameter to control this behavior.\n",
            "  _warn_prf(average, modifier, msg_start, len(result))\n",
            "/usr/local/lib/python3.10/dist-packages/sklearn/metrics/_classification.py:1344: UndefinedMetricWarning: Precision and F-score are ill-defined and being set to 0.0 in labels with no predicted samples. Use `zero_division` parameter to control this behavior.\n",
            "  _warn_prf(average, modifier, msg_start, len(result))\n",
            "/usr/local/lib/python3.10/dist-packages/scipy/stats/_entropy.py:135: RuntimeWarning: invalid value encountered in true_divide\n",
            "  pk = 1.0*pk / np.sum(pk, axis=axis, keepdims=True)\n"
          ]
        },
        {
          "output_type": "stream",
          "name": "stdout",
          "text": [
            "Confusion Matrix : \n",
            " [[ 0 24  0  0  0  0  0  0  0  0]\n",
            " [ 0  0  5  0  0  0  9  3 12  0]\n",
            " [ 0  0 29  0  0  0  0  2  0  0]\n",
            " [ 0  0  1  0  0  0  0  0  0 27]\n",
            " [ 0  0  0  0  0  0  0 27  0  0]\n",
            " [ 0  0  0  0  0 13  0  0  0 22]\n",
            " [ 0  0  0  0  0  0 40  0  0  0]\n",
            " [ 0  0  0  0  0  0  0 36  0  0]\n",
            " [ 0  0  0  0  0  0  1  0 30  2]\n",
            " [ 0  0  0  0  0  3  0  3  0 31]]\n",
            "Classification Report : \n",
            "               precision    recall  f1-score   support\n",
            "\n",
            "           0       0.00      0.00      0.00        24\n",
            "           1       0.00      0.00      0.00        29\n",
            "           2       0.83      0.94      0.88        31\n",
            "           3       0.00      0.00      0.00        28\n",
            "           4       0.00      0.00      0.00        27\n",
            "           5       0.81      0.37      0.51        35\n",
            "           6       0.80      1.00      0.89        40\n",
            "           7       0.51      1.00      0.67        36\n",
            "           8       0.71      0.91      0.80        33\n",
            "           9       0.38      0.84      0.52        37\n",
            "\n",
            "    accuracy                           0.56       320\n",
            "   macro avg       0.40      0.51      0.43       320\n",
            "weighted avg       0.44      0.56      0.47       320\n",
            "\n",
            "Label Spreading model: 10 labeled & 320 unlabeled points (330 total)\n"
          ]
        },
        {
          "output_type": "display_data",
          "data": {
            "text/plain": [
              "<Figure size 1000x600 with 5 Axes>"
            ],
            "image/png": "[encoded data removed]"
          },
          "metadata": {}
        }
      ],
      "source": [
        "propagation_Function(nlabeledpoints=10)"
      ]
    },
    {
      "cell_type": "code",
      "execution_count": 47,
      "metadata": {
        "colab": {
          "base_uri": "https://localhost:8080/",
          "height": 1000
        },
        "id": "TA2Y1Q48Ve5a",
        "outputId": "218da625-2b85-4e0f-ad97-cb019bf6d950"
      },
      "outputs": [
        {
          "output_type": "stream",
          "name": "stderr",
          "text": [
            "<ipython-input-4-b44cbfc9507d>:129: ConvergenceWarning: max_iter=30 was reached without convergence.\n",
            "  warnings.warn(\n",
            "<ipython-input-4-b44cbfc9507d>:80: RuntimeWarning: invalid value encountered in true_divide\n",
            "  probabilities /= normalizer\n",
            "/usr/local/lib/python3.10/dist-packages/sklearn/metrics/_classification.py:1344: UndefinedMetricWarning: Precision and F-score are ill-defined and being set to 0.0 in labels with no predicted samples. Use `zero_division` parameter to control this behavior.\n",
            "  _warn_prf(average, modifier, msg_start, len(result))\n",
            "/usr/local/lib/python3.10/dist-packages/sklearn/metrics/_classification.py:1344: UndefinedMetricWarning: Precision and F-score are ill-defined and being set to 0.0 in labels with no predicted samples. Use `zero_division` parameter to control this behavior.\n",
            "  _warn_prf(average, modifier, msg_start, len(result))\n",
            "/usr/local/lib/python3.10/dist-packages/sklearn/metrics/_classification.py:1344: UndefinedMetricWarning: Precision and F-score are ill-defined and being set to 0.0 in labels with no predicted samples. Use `zero_division` parameter to control this behavior.\n",
            "  _warn_prf(average, modifier, msg_start, len(result))\n",
            "/usr/local/lib/python3.10/dist-packages/scipy/stats/_entropy.py:135: RuntimeWarning: invalid value encountered in true_divide\n",
            "  pk = 1.0*pk / np.sum(pk, axis=axis, keepdims=True)\n"
          ]
        },
        {
          "output_type": "stream",
          "name": "stdout",
          "text": [
            "Confusion Matrix : \n",
            " [[ 0 24  0  0  0  0  0  0  0  0]\n",
            " [ 0  0  5  0  0  0 11  1 12  0]\n",
            " [ 0  0 28  0  0  0  0  2  0  0]\n",
            " [ 0  0  1  0  0  0  0  0  0 27]\n",
            " [ 0  0  0  0  0  0  0 27  0  0]\n",
            " [ 0  0  0  0  0 13  0  0  0 22]\n",
            " [ 0  0  0  0  0  0 37  0  0  0]\n",
            " [ 0  0  0  0  0  0  0 36  0  0]\n",
            " [ 0  0  0  0  0  0  1  0 29  2]\n",
            " [ 0  0  0  0  0  3  0  3  0 31]]\n",
            "Classification Report : \n",
            "               precision    recall  f1-score   support\n",
            "\n",
            "           0       0.00      0.00      0.00        24\n",
            "           1       0.00      0.00      0.00        29\n",
            "           2       0.82      0.93      0.87        30\n",
            "           3       0.00      0.00      0.00        28\n",
            "           4       0.00      0.00      0.00        27\n",
            "           5       0.81      0.37      0.51        35\n",
            "           6       0.76      1.00      0.86        37\n",
            "           7       0.52      1.00      0.69        36\n",
            "           8       0.71      0.91      0.79        32\n",
            "           9       0.38      0.84      0.52        37\n",
            "\n",
            "    accuracy                           0.55       315\n",
            "   macro avg       0.40      0.50      0.42       315\n",
            "weighted avg       0.43      0.55      0.46       315\n",
            "\n",
            "Label Spreading model: 15 labeled & 315 unlabeled points (330 total)\n"
          ]
        },
        {
          "output_type": "display_data",
          "data": {
            "text/plain": [
              "<Figure size 1000x600 with 5 Axes>"
            ],
            "image/png": "[encoded data removed]"
          },
          "metadata": {}
        }
      ],
      "source": [
        "propagation_Function(nlabeledpoints=15)"
      ]
    },
    {
      "cell_type": "code",
      "execution_count": 48,
      "metadata": {
        "colab": {
          "base_uri": "https://localhost:8080/",
          "height": 967
        },
        "id": "kttizFBbWLjL",
        "outputId": "a1d03730-cc54-4018-a518-b9d08c4150a7"
      },
      "outputs": [
        {
          "output_type": "stream",
          "name": "stderr",
          "text": [
            "<ipython-input-4-b44cbfc9507d>:129: ConvergenceWarning: max_iter=30 was reached without convergence.\n",
            "  warnings.warn(\n",
            "/usr/local/lib/python3.10/dist-packages/sklearn/metrics/_classification.py:1344: UndefinedMetricWarning: Precision and F-score are ill-defined and being set to 0.0 in labels with no predicted samples. Use `zero_division` parameter to control this behavior.\n",
            "  _warn_prf(average, modifier, msg_start, len(result))\n",
            "/usr/local/lib/python3.10/dist-packages/sklearn/metrics/_classification.py:1344: UndefinedMetricWarning: Precision and F-score are ill-defined and being set to 0.0 in labels with no predicted samples. Use `zero_division` parameter to control this behavior.\n",
            "  _warn_prf(average, modifier, msg_start, len(result))\n",
            "/usr/local/lib/python3.10/dist-packages/sklearn/metrics/_classification.py:1344: UndefinedMetricWarning: Precision and F-score are ill-defined and being set to 0.0 in labels with no predicted samples. Use `zero_division` parameter to control this behavior.\n",
            "  _warn_prf(average, modifier, msg_start, len(result))\n"
          ]
        },
        {
          "output_type": "stream",
          "name": "stdout",
          "text": [
            "Confusion Matrix : \n",
            " [[23  0  0  0  0  0  0  0  0  0]\n",
            " [ 0 12  5  0  0  0  0  0 11  0]\n",
            " [ 1  0 27  0  0  0  0  2  0  0]\n",
            " [ 0  0  1  0  0  0  0  0  0 27]\n",
            " [ 0  0  0  0  0  0  0 27  0  0]\n",
            " [ 0  0  0  0  0 22  0  0  0 12]\n",
            " [ 0  0  0  0  0  0 36  0  0  0]\n",
            " [ 0  0  0  0  0  0  0 36  0  0]\n",
            " [ 0  0  0  0  0  0  1  0 30  0]\n",
            " [ 1  2  0  0  0  3  0  1  0 30]]\n",
            "Classification Report : \n",
            "               precision    recall  f1-score   support\n",
            "\n",
            "           0       0.92      1.00      0.96        23\n",
            "           1       0.86      0.43      0.57        28\n",
            "           2       0.82      0.90      0.86        30\n",
            "           3       0.00      0.00      0.00        28\n",
            "           4       0.00      0.00      0.00        27\n",
            "           5       0.88      0.65      0.75        34\n",
            "           6       0.97      1.00      0.99        36\n",
            "           7       0.55      1.00      0.71        36\n",
            "           8       0.73      0.97      0.83        31\n",
            "           9       0.43      0.81      0.57        37\n",
            "\n",
            "    accuracy                           0.70       310\n",
            "   macro avg       0.62      0.68      0.62       310\n",
            "weighted avg       0.62      0.70      0.63       310\n",
            "\n",
            "Label Spreading model: 20 labeled & 310 unlabeled points (330 total)\n"
          ]
        },
        {
          "output_type": "display_data",
          "data": {
            "text/plain": [
              "<Figure size 1000x600 with 5 Axes>"
            ],
            "image/png": "[encoded data removed]"
          },
          "metadata": {}
        }
      ],
      "source": [
        "propagation_Function(nlabeledpoints=20)"
      ]
    },
    {
      "cell_type": "code",
      "execution_count": 49,
      "metadata": {
        "colab": {
          "base_uri": "https://localhost:8080/",
          "height": 967
        },
        "id": "OzYF78CtWQU1",
        "outputId": "6542cd48-9d71-40d7-f9e7-52d303dfdfbc"
      },
      "outputs": [
        {
          "output_type": "stream",
          "name": "stderr",
          "text": [
            "<ipython-input-4-b44cbfc9507d>:129: ConvergenceWarning: max_iter=30 was reached without convergence.\n",
            "  warnings.warn(\n",
            "/usr/local/lib/python3.10/dist-packages/sklearn/metrics/_classification.py:1344: UndefinedMetricWarning: Precision and F-score are ill-defined and being set to 0.0 in labels with no predicted samples. Use `zero_division` parameter to control this behavior.\n",
            "  _warn_prf(average, modifier, msg_start, len(result))\n",
            "/usr/local/lib/python3.10/dist-packages/sklearn/metrics/_classification.py:1344: UndefinedMetricWarning: Precision and F-score are ill-defined and being set to 0.0 in labels with no predicted samples. Use `zero_division` parameter to control this behavior.\n",
            "  _warn_prf(average, modifier, msg_start, len(result))\n",
            "/usr/local/lib/python3.10/dist-packages/sklearn/metrics/_classification.py:1344: UndefinedMetricWarning: Precision and F-score are ill-defined and being set to 0.0 in labels with no predicted samples. Use `zero_division` parameter to control this behavior.\n",
            "  _warn_prf(average, modifier, msg_start, len(result))\n"
          ]
        },
        {
          "output_type": "stream",
          "name": "stdout",
          "text": [
            "Confusion Matrix : \n",
            " [[23  0  0  0  0  0  0  0  0  0]\n",
            " [ 0 12  5  0  0  0  0  0 11  0]\n",
            " [ 1  0 27  0  0  0  0  2  0  0]\n",
            " [ 0  0  1  0  0  0  0  0 27  0]\n",
            " [ 0  0  0  0 25  0  0  1  0  0]\n",
            " [ 0  0  0  0  0 22  0  0  0 12]\n",
            " [ 0  0  0  0  0  0 36  0  0  0]\n",
            " [ 0  0  0  0  0  0  0 34  0  0]\n",
            " [ 0  0  0  0  0  0  1  0 28  0]\n",
            " [ 1  1  0  0  1  3  0  1  1 29]]\n",
            "Classification Report : \n",
            "               precision    recall  f1-score   support\n",
            "\n",
            "           0       0.92      1.00      0.96        23\n",
            "           1       0.92      0.43      0.59        28\n",
            "           2       0.82      0.90      0.86        30\n",
            "           3       0.00      0.00      0.00        28\n",
            "           4       0.96      0.96      0.96        26\n",
            "           5       0.88      0.65      0.75        34\n",
            "           6       0.97      1.00      0.99        36\n",
            "           7       0.89      1.00      0.94        34\n",
            "           8       0.42      0.97      0.58        29\n",
            "           9       0.71      0.78      0.74        37\n",
            "\n",
            "    accuracy                           0.77       305\n",
            "   macro avg       0.75      0.77      0.74       305\n",
            "weighted avg       0.75      0.77      0.74       305\n",
            "\n",
            "Label Spreading model: 25 labeled & 305 unlabeled points (330 total)\n"
          ]
        },
        {
          "output_type": "display_data",
          "data": {
            "text/plain": [
              "<Figure size 1000x600 with 5 Axes>"
            ],
            "image/png": "[encoded data removed]"
          },
          "metadata": {}
        }
      ],
      "source": [
        "propagation_Function(nlabeledpoints=25)"
      ]
    },
    {
      "cell_type": "code",
      "execution_count": 50,
      "metadata": {
        "colab": {
          "base_uri": "https://localhost:8080/",
          "height": 967
        },
        "id": "nRH6xlujWTEr",
        "outputId": "9ccd65ac-39a8-4be4-8857-d2a529d9cfb4"
      },
      "outputs": [
        {
          "output_type": "stream",
          "name": "stderr",
          "text": [
            "<ipython-input-4-b44cbfc9507d>:129: ConvergenceWarning: max_iter=30 was reached without convergence.\n",
            "  warnings.warn(\n",
            "/usr/local/lib/python3.10/dist-packages/sklearn/metrics/_classification.py:1344: UndefinedMetricWarning: Precision and F-score are ill-defined and being set to 0.0 in labels with no predicted samples. Use `zero_division` parameter to control this behavior.\n",
            "  _warn_prf(average, modifier, msg_start, len(result))\n",
            "/usr/local/lib/python3.10/dist-packages/sklearn/metrics/_classification.py:1344: UndefinedMetricWarning: Precision and F-score are ill-defined and being set to 0.0 in labels with no predicted samples. Use `zero_division` parameter to control this behavior.\n",
            "  _warn_prf(average, modifier, msg_start, len(result))\n",
            "/usr/local/lib/python3.10/dist-packages/sklearn/metrics/_classification.py:1344: UndefinedMetricWarning: Precision and F-score are ill-defined and being set to 0.0 in labels with no predicted samples. Use `zero_division` parameter to control this behavior.\n",
            "  _warn_prf(average, modifier, msg_start, len(result))\n"
          ]
        },
        {
          "output_type": "stream",
          "name": "stdout",
          "text": [
            "Confusion Matrix : \n",
            " [[23  0  0  0  0  0  0  0  0  0]\n",
            " [ 0 12  5  0  0  0  0  0 11  0]\n",
            " [ 1  0 26  0  0  0  0  2  0  0]\n",
            " [ 0  0  1  0  0  0  0  0  0 27]\n",
            " [ 0  0  0  0 24  0  0  1  0  0]\n",
            " [ 0  0  0  0  0 22  0  0  0 11]\n",
            " [ 0  0  0  0  0  0 36  0  0  0]\n",
            " [ 0  0  0  0  0  0  0 34  0  0]\n",
            " [ 0  0  0  0  0  0  1  0 26  2]\n",
            " [ 1  1  0  0  1  3  0  0  0 29]]\n",
            "Classification Report : \n",
            "               precision    recall  f1-score   support\n",
            "\n",
            "           0       0.92      1.00      0.96        23\n",
            "           1       0.92      0.43      0.59        28\n",
            "           2       0.81      0.90      0.85        29\n",
            "           3       0.00      0.00      0.00        28\n",
            "           4       0.96      0.96      0.96        25\n",
            "           5       0.88      0.67      0.76        33\n",
            "           6       0.97      1.00      0.99        36\n",
            "           7       0.92      1.00      0.96        34\n",
            "           8       0.70      0.90      0.79        29\n",
            "           9       0.42      0.83      0.56        35\n",
            "\n",
            "    accuracy                           0.77       300\n",
            "   macro avg       0.75      0.77      0.74       300\n",
            "weighted avg       0.75      0.77      0.74       300\n",
            "\n",
            "Label Spreading model: 30 labeled & 300 unlabeled points (330 total)\n"
          ]
        },
        {
          "output_type": "display_data",
          "data": {
            "text/plain": [
              "<Figure size 1000x600 with 5 Axes>"
            ],
            "image/png": "[encoded data removed]"
          },
          "metadata": {}
        }
      ],
      "source": [
        "propagation_Function(nlabeledpoints=30)"
      ]
    }
  ],
  "metadata": {
    "colab": {
      "provenance": []
    },
    "kernelspec": {
      "display_name": "Python 3 (ipykernel)",
      "language": "python",
      "name": "python3"
    },
    "language_info": {
      "codemirror_mode": {
        "name": "ipython",
        "version": 3
      },
      "file_extension": ".py",
      "mimetype": "text/x-python",
      "name": "python",
      "nbconvert_exporter": "python",
      "pygments_lexer": "ipython3",
      "version": "3.9.7"
    }
  },
  "nbformat": 4,
  "nbformat_minor": 0
}